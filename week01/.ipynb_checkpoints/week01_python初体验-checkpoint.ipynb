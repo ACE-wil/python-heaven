{
 "cells": [
  {
   "cell_type": "markdown",
   "id": "73b5c303",
   "metadata": {},
   "source": [
    "-------\n",
    "* 2022.8.23\n",
    "* python\n",
    "* 课堂笔记\n",
    "* 记录人：沈连杰\n",
    "------\n",
    "* 学习资源参考链接> 1. [markdown学习](https://www.markdownguide.org/)> 2. [许老师博客](https://www.cnblogs.com/xuzhichao)> 3. [anacanda安装](https://blog.csdn.net/fan18317517352/article/details/123035625)"
   ]
  },
  {
   "cell_type": "markdown",
   "id": "b145cb9f",
   "metadata": {},
   "source": [
    "# 第一周开始啦"
   ]
  },
  {
   "cell_type": "code",
   "execution_count": 1,
   "id": "086b4ada",
   "metadata": {},
   "outputs": [
    {
     "name": "stdout",
     "output_type": "stream",
     "text": [
      "hello world!\n"
     ]
    }
   ],
   "source": [
    "print('hello world!')"
   ]
  },
  {
   "cell_type": "code",
   "execution_count": null,
   "id": "91a187ed",
   "metadata": {},
   "outputs": [],
   "source": []
  }
 ],
 "metadata": {
  "kernelspec": {
   "display_name": "Python 3 (ipykernel)",
   "language": "python",
   "name": "python3"
  },
  "language_info": {
   "codemirror_mode": {
    "name": "ipython",
    "version": 3
   },
   "file_extension": ".py",
   "mimetype": "text/x-python",
   "name": "python",
   "nbconvert_exporter": "python",
   "pygments_lexer": "ipython3",
   "version": "3.9.12"
  }
 },
 "nbformat": 4,
 "nbformat_minor": 5
}
