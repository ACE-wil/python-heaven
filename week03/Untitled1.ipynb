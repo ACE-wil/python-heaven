{
 "cells": [
  {
   "cell_type": "code",
   "execution_count": 1,
   "id": "23c87979",
   "metadata": {},
   "outputs": [
    {
     "data": {
      "text/plain": [
       "time.struct_time(tm_year=2022, tm_mon=9, tm_mday=7, tm_hour=20, tm_min=14, tm_sec=10, tm_wday=2, tm_yday=250, tm_isdst=0)"
      ]
     },
     "execution_count": 1,
     "metadata": {},
     "output_type": "execute_result"
    }
   ],
   "source": [
    "import time\n",
    "\n",
    "time.localtime()"
   ]
  },
  {
   "cell_type": "code",
   "execution_count": 20,
   "id": "fa3093fd",
   "metadata": {},
   "outputs": [
    {
     "name": "stdout",
     "output_type": "stream",
     "text": [
      "2\n",
      "40\n",
      "20\n",
      "it's python today\n",
      "sah课啦\n"
     ]
    }
   ],
   "source": [
    "week_day = time.localtime().tm_wday\n",
    "print(week_day)\n",
    "time_min = time.localtime().tm_min\n",
    "print(time_min)\n",
    "time_hour = time.localtime().tm_hour\n",
    "print(time_hour)\n",
    "if week_day == 2:\n",
    "    print(\"it's python today\")\n",
    "if time_hour == 19:\n",
    "    print(\"python ing\")\n",
    "elif time_hour == 18 and time_min > 45:\n",
    "    print(\"python ing\")\n",
    "elif time_hour == 20 and time_min < 55:\n",
    "    print(\"sah课啦\")  \n",
    "elif time_hour == 20 and time_min > 55:\n",
    "    print(\"下课啦\")  \n"
   ]
  },
  {
   "cell_type": "code",
   "execution_count": 26,
   "id": "d45c2ee4",
   "metadata": {},
   "outputs": [
    {
     "name": "stdout",
     "output_type": "stream",
     "text": [
      "1\n",
      "2\n",
      "3\n"
     ]
    }
   ],
   "source": [
    "# 用例1\n",
    "for fuckisi in [1,2,3]:\n",
    "    print(fuckisi)\n"
   ]
  },
  {
   "cell_type": "code",
   "execution_count": 27,
   "id": "711fc47d",
   "metadata": {},
   "outputs": [
    {
     "name": "stdout",
     "output_type": "stream",
     "text": [
      "[\n",
      "1\n",
      ",\n",
      "2\n",
      ",\n",
      "3\n",
      "]\n"
     ]
    }
   ],
   "source": [
    "# 用例2\n",
    "for fuckisi in \"[1,2,3]\":\n",
    "    print(fuckisi)\n"
   ]
  },
  {
   "cell_type": "code",
   "execution_count": 32,
   "id": "074055ca",
   "metadata": {},
   "outputs": [
    {
     "name": "stdout",
     "output_type": "stream",
     "text": [
      "1\n",
      "2\n",
      "3\n",
      "4\n"
     ]
    }
   ],
   "source": [
    "for num in range(1,5):\n",
    "    print(num)"
   ]
  },
  {
   "cell_type": "code",
   "execution_count": 38,
   "id": "09236385",
   "metadata": {},
   "outputs": [
    {
     "name": "stdout",
     "output_type": "stream",
     "text": [
      "10\n",
      "8\n",
      "6\n",
      "4\n",
      "2\n"
     ]
    }
   ],
   "source": [
    "for num in range(10,1,-2):\n",
    "    print(num)"
   ]
  },
  {
   "cell_type": "code",
   "execution_count": 36,
   "id": "7940f57f",
   "metadata": {},
   "outputs": [
    {
     "name": "stdout",
     "output_type": "stream",
     "text": [
      "1\n",
      "3\n",
      "5\n",
      "7\n",
      "9\n"
     ]
    }
   ],
   "source": [
    "for num in range(1,10,2):\n",
    "    print(num)"
   ]
  },
  {
   "cell_type": "code",
   "execution_count": null,
   "id": "b09ec8fc",
   "metadata": {},
   "outputs": [],
   "source": []
  }
 ],
 "metadata": {
  "kernelspec": {
   "display_name": "Python 3 (ipykernel)",
   "language": "python",
   "name": "python3"
  },
  "language_info": {
   "codemirror_mode": {
    "name": "ipython",
    "version": 3
   },
   "file_extension": ".py",
   "mimetype": "text/x-python",
   "name": "python",
   "nbconvert_exporter": "python",
   "pygments_lexer": "ipython3",
   "version": "3.9.12"
  }
 },
 "nbformat": 4,
 "nbformat_minor": 5
}
