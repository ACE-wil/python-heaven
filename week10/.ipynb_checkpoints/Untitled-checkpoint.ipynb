{
 "cells": [
  {
   "cell_type": "code",
   "execution_count": null,
   "id": "a97e7819",
   "metadata": {},
   "outputs": [
    {
     "name": "stdout",
     "output_type": "stream",
     "text": [
      "请输入余额:1000\n",
      "---------商品列表\n",
      "商品编号:0 ['iphone14 pro max', 1000]\n",
      "商品编号:1 ['华为P50', 5000]\n",
      "商品编号:2 ['华为P40', 5000]\n",
      "请输入商品编号:\n",
      "您输入的商品不存在或有误\n",
      "---------商品列表\n",
      "商品编号:0 ['iphone14 pro max', 1000]\n",
      "商品编号:1 ['华为P50', 5000]\n",
      "商品编号:2 ['华为P40', 5000]\n",
      "请输入商品编号:1\n",
      "您的余额已不足\n",
      "---------商品列表\n",
      "商品编号:0 ['iphone14 pro max', 1000]\n",
      "商品编号:1 ['华为P50', 5000]\n",
      "商品编号:2 ['华为P40', 5000]\n",
      "请输入商品编号:1\n",
      "您的余额已不足\n",
      "---------商品列表\n",
      "商品编号:0 ['iphone14 pro max', 1000]\n",
      "商品编号:1 ['华为P50', 5000]\n",
      "商品编号:2 ['华为P40', 5000]\n",
      "请输入商品编号:2\n",
      "您的余额已不足\n",
      "---------商品列表\n",
      "商品编号:0 ['iphone14 pro max', 1000]\n",
      "商品编号:1 ['华为P50', 5000]\n",
      "商品编号:2 ['华为P40', 5000]\n"
     ]
    }
   ],
   "source": [
    "shopping_list = [\n",
    "    [\"iphone14 pro max\",1000],\n",
    "    [\"华为P50\",5000],\n",
    "    [\"华为P40\",5000],\n",
    "]\n",
    "shopping_car = []\n",
    "Alipay = int(input(\"请输入余额:\"))\n",
    "while True:\n",
    "    print(\"---------商品列表\")\n",
    "    for i in range(3):\n",
    "        print(\"商品编号:\"+str(i),shopping_list[i])\n",
    "    user_choice = input(\"请输入商品编号:\")\n",
    "    if user_choice.isdigit():\n",
    "        if Alipay>= shopping_list[int(user_choice)][1]:\n",
    "            Alipay = Alipay - shopping_list[int(user_choice)][1]\n",
    "            print(\"您购买的商品已增加到购物车\")\n",
    "        else:\n",
    "            print(\"您的余额已不足\")\n",
    "    elif user_choice == \"q\":\n",
    "        print(\"您的购物车:\",shopping_car)\n",
    "        print(\"您的余额还要有:\",Alipay)\n",
    "        break\n",
    "    else:\n",
    "        print(\"您输入的商品不存在或有误\")"
   ]
  },
  {
   "cell_type": "code",
   "execution_count": null,
   "id": "9ff25bed",
   "metadata": {},
   "outputs": [],
   "source": [
    "shopping_list = [\n",
    "    [\"iphone14 pro max\",\"1000\"],\n",
    "    [\"华为P50\",\"5000\"],\n",
    "    [\"华为P40\",\"5000\"],\n",
    "]\n",
    "Alipay = input(\"请输入余额:\")\n",
    "print(shopping_list)\n",
    "user_choice = input(\"请输入商品编号:\")\n",
    "print(shopping_list[0])\n",
    "shopping_price = shopping_list[user_choice]"
   ]
  },
  {
   "cell_type": "code",
   "execution_count": null,
   "id": "b427110e",
   "metadata": {},
   "outputs": [],
   "source": []
  },
  {
   "cell_type": "code",
   "execution_count": null,
   "id": "e284c377",
   "metadata": {},
   "outputs": [],
   "source": []
  }
 ],
 "metadata": {
  "kernelspec": {
   "display_name": "Python 3 (ipykernel)",
   "language": "python",
   "name": "python3"
  },
  "language_info": {
   "codemirror_mode": {
    "name": "ipython",
    "version": 3
   },
   "file_extension": ".py",
   "mimetype": "text/x-python",
   "name": "python",
   "nbconvert_exporter": "python",
   "pygments_lexer": "ipython3",
   "version": "3.9.12"
  }
 },
 "nbformat": 4,
 "nbformat_minor": 5
}
