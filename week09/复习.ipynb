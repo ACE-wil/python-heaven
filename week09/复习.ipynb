{
 "cells": [
  {
   "cell_type": "code",
   "execution_count": 7,
   "id": "352494c3",
   "metadata": {},
   "outputs": [
    {
     "name": "stdout",
     "output_type": "stream",
     "text": [
      "h\n",
      "e\n",
      "l\n",
      "l\n",
      "o\n",
      " \n",
      "l\n",
      "i\n",
      "a\n",
      "n\n",
      "j\n",
      "i\n",
      "e\n"
     ]
    }
   ],
   "source": [
    "for ch in \"hello lianjie\":\n",
    "    print(ch)"
   ]
  },
  {
   "cell_type": "code",
   "execution_count": 9,
   "id": "395e4406",
   "metadata": {},
   "outputs": [
    {
     "name": "stdout",
     "output_type": "stream",
     "text": [
      "1\n",
      "5\n"
     ]
    }
   ],
   "source": [
    "for i in [1,5]:\n",
    "    print(i)"
   ]
  },
  {
   "cell_type": "code",
   "execution_count": 11,
   "id": "5a13388e",
   "metadata": {},
   "outputs": [
    {
     "data": {
      "text/plain": [
       "<function time.localtime>"
      ]
     },
     "execution_count": 11,
     "metadata": {},
     "output_type": "execute_result"
    }
   ],
   "source": [
    "import time\n",
    "time.localtime"
   ]
  },
  {
   "cell_type": "code",
   "execution_count": 12,
   "id": "fc0c157a",
   "metadata": {},
   "outputs": [
    {
     "data": {
      "text/plain": [
       "time.struct_time(tm_year=2022, tm_mon=10, tm_mday=19, tm_hour=19, tm_min=2, tm_sec=57, tm_wday=2, tm_yday=292, tm_isdst=0)"
      ]
     },
     "execution_count": 12,
     "metadata": {},
     "output_type": "execute_result"
    }
   ],
   "source": [
    "time.localtime()"
   ]
  },
  {
   "cell_type": "code",
   "execution_count": 13,
   "id": "25491d12",
   "metadata": {},
   "outputs": [
    {
     "name": "stdout",
     "output_type": "stream",
     "text": [
      "19\n"
     ]
    }
   ],
   "source": [
    "wddd = time.localtime().tm_mday\n",
    "print(wddd)"
   ]
  },
  {
   "cell_type": "code",
   "execution_count": 21,
   "id": "d3a5d71d",
   "metadata": {},
   "outputs": [
    {
     "name": "stdout",
     "output_type": "stream",
     "text": [
      "rest\n"
     ]
    }
   ],
   "source": [
    "today = \"Saturday\"\n",
    "health = \"god\"\n",
    "if today == \"moday\":\n",
    "    print(\"It's time to vacation\")\n",
    "elif today == \"Saturday\":\n",
    "        if health == \"Good\":\n",
    "            print(\"go to have a play\")\n",
    "        else:\n",
    "                print(\"rest\")\n",
    "else:\n",
    "    print(\"go to study\")\n",
    "        "
   ]
  },
  {
   "cell_type": "code",
   "execution_count": 14,
   "id": "c4365592",
   "metadata": {},
   "outputs": [],
   "source": [
    "names = [\"mike\",\"Amy\",\"HELL\"]\n",
    "names.append(\"lihua\")"
   ]
  },
  {
   "cell_type": "code",
   "execution_count": 3,
   "id": "bb68e91c",
   "metadata": {},
   "outputs": [
    {
     "name": "stdout",
     "output_type": "stream",
     "text": [
      "2\n",
      "3\n"
     ]
    }
   ],
   "source": [
    "for num in range(2,4):\n",
    "    print(num)"
   ]
  },
  {
   "cell_type": "code",
   "execution_count": 15,
   "id": "b4e5e658",
   "metadata": {},
   "outputs": [
    {
     "name": "stdout",
     "output_type": "stream",
     "text": [
      "['mike', 'Amy', 'HELL', 'lihua']\n"
     ]
    }
   ],
   "source": [
    "print(names)"
   ]
  },
  {
   "cell_type": "code",
   "execution_count": 4,
   "id": "82bb77d9",
   "metadata": {},
   "outputs": [],
   "source": [
    "name = [\"mike\",\"Amy\",\"HELL\",\"lianjie\"]"
   ]
  },
  {
   "cell_type": "code",
   "execution_count": 9,
   "id": "d3a04daf",
   "metadata": {},
   "outputs": [
    {
     "data": {
      "text/plain": [
       "[0, 1, 2, 3, 4]"
      ]
     },
     "execution_count": 9,
     "metadata": {},
     "output_type": "execute_result"
    }
   ],
   "source": [
    "list (range(0,5))"
   ]
  },
  {
   "cell_type": "code",
   "execution_count": 12,
   "id": "40f113e1",
   "metadata": {},
   "outputs": [
    {
     "name": "stdout",
     "output_type": "stream",
     "text": [
      "1\n",
      "3\n",
      "5\n",
      "7\n",
      "9\n",
      "11\n"
     ]
    }
   ],
   "source": [
    "for num in range (1,12,2):\n",
    "    print(num)\n"
   ]
  },
  {
   "cell_type": "code",
   "execution_count": 13,
   "id": "eaba8dba",
   "metadata": {},
   "outputs": [],
   "source": [
    "import random\n",
    "import time"
   ]
  },
  {
   "cell_type": "code",
   "execution_count": 22,
   "id": "4fc6f0c4",
   "metadata": {},
   "outputs": [
    {
     "name": "stdout",
     "output_type": "stream",
     "text": [
      "www.lianjie0.com\n",
      "该次停留 2 秒\n",
      "www.lianjie1.com\n",
      "该次停留 4 秒\n",
      "www.lianjie2.com\n",
      "该次停留 2 秒\n",
      "www.lianjie3.com\n",
      "该次停留 3 秒\n",
      "www.lianjie4.com\n",
      "该次停留 4 秒\n"
     ]
    }
   ],
   "source": [
    "import random\n",
    "import time\n",
    "我的博客 = \"www.lianjie\"\n",
    "页面后缀 = \".com\"\n",
    "page = 5\n",
    "for i in range(page):\n",
    "    print(我的博客 + str(i) + 页面后缀)\n",
    "    random_num = random.randint(1,4)\n",
    "    print(\"该次停留\",random_num,\"秒\")\n",
    "    time.sleep(random_num)"
   ]
  },
  {
   "cell_type": "code",
   "execution_count": 24,
   "id": "dbb26e5d",
   "metadata": {},
   "outputs": [
    {
     "data": {
      "text/plain": [
       "'黄柏睿'"
      ]
     },
     "execution_count": 24,
     "metadata": {},
     "output_type": "execute_result"
    }
   ],
   "source": [
    "random.choice(['黄柏睿','李圣卿','李圆圆','赖文佩','赖文佩','赖文佩'])"
   ]
  },
  {
   "cell_type": "code",
   "execution_count": 25,
   "id": "bf5766a2",
   "metadata": {},
   "outputs": [
    {
     "data": {
      "text/plain": [
       "['mike', 'Amy', 'HELL']"
      ]
     },
     "execution_count": 25,
     "metadata": {},
     "output_type": "execute_result"
    }
   ],
   "source": [
    "name"
   ]
  },
  {
   "cell_type": "code",
   "execution_count": 7,
   "id": "ff7b5b72",
   "metadata": {},
   "outputs": [
    {
     "name": "stdout",
     "output_type": "stream",
     "text": [
      "请输入要删除的名字lianjie\n",
      "['mike', 'Amy', 'HELL']\n"
     ]
    }
   ],
   "source": [
    "user_input_name = input(\"请输入要删除的名字\")\n",
    "if user_input_name in name:\n",
    "    name.remove(user_input_name)\n",
    "else:\n",
    "    print(\"您要删除的内容不存在\")\n",
    "print(name)\n",
    "        "
   ]
  },
  {
   "cell_type": "code",
   "execution_count": 32,
   "id": "de3bd04f",
   "metadata": {},
   "outputs": [
    {
     "name": "stdout",
     "output_type": "stream",
     "text": [
      "要删除的值1\n",
      "['mike']\n"
     ]
    }
   ],
   "source": [
    "delete = int(input(\"要删除的值\"))\n",
    "if delete<len(name):\n",
    "    name.pop(delete)\n",
    "    print(name)\n",
    "else:\n",
    "    print(\"您输入的值不存在\")"
   ]
  },
  {
   "cell_type": "code",
   "execution_count": 26,
   "id": "1973cd9b",
   "metadata": {},
   "outputs": [
    {
     "name": "stdout",
     "output_type": "stream",
     "text": [
      "Help on built-in function pop:\n",
      "\n",
      "pop(index=-1, /) method of builtins.list instance\n",
      "    Remove and return item at index (default last).\n",
      "    \n",
      "    Raises IndexError if list is empty or index is out of range.\n",
      "\n"
     ]
    }
   ],
   "source": [
    "help(name.pop)"
   ]
  },
  {
   "cell_type": "code",
   "execution_count": null,
   "id": "29db7e2b",
   "metadata": {},
   "outputs": [],
   "source": []
  }
 ],
 "metadata": {
  "kernelspec": {
   "display_name": "Python 3 (ipykernel)",
   "language": "python",
   "name": "python3"
  },
  "language_info": {
   "codemirror_mode": {
    "name": "ipython",
    "version": 3
   },
   "file_extension": ".py",
   "mimetype": "text/x-python",
   "name": "python",
   "nbconvert_exporter": "python",
   "pygments_lexer": "ipython3",
   "version": "3.9.12"
  }
 },
 "nbformat": 4,
 "nbformat_minor": 5
}
