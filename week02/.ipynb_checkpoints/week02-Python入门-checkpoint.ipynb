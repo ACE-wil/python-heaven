{
 "cells": [
  {
   "cell_type": "markdown",
   "id": "5f32c53c",
   "metadata": {},
   "source": [
    "----------\n",
    "* 日期：2022-08-31 \\ week02（周三）\n",
    "* 课程：python\n",
    "* 记录人：沈连杰\n",
    "---------\n",
    "\n",
    "# 本周学习内容\n",
    "\n",
    "## 1. 准备工作\n",
    "> 1. 安装配置python环境（anaconda，清华大学镜像）\n",
    ">> 1. 什么是绝对路径和相对路径？\n",
    ">> 2. 配置环境，相对路径有5个需要配置的，绝对路径根据自己的电脑进行配置\n",
    "\n",
    "> 2. 回顾：Github Desktop 如何实现本地与云端的链接\n",
    ">> 1. 克隆 Gitee的仓库URL，到本地的指定文件路径，例如 D:/2022-2023/Python\n",
    ">> 2. 上传 本地笔记到gitee仓库\n",
    "\n",
    "> 3. 本周重点知识([jupyter notebook](https://jupyter.org/))\n",
    ">> 1. 什么是IDE?（即集成开发环境）\n",
    ">> 2. 如何打开jupyter notebook ？\n",
    ">>> 1. cmd \n",
    ">>> 2. cd 指定目录下\n",
    ">>> 3. 输入：jupyter notebook\n",
    "\n",
    "> 4. 注：前九周全部使用juoyter notebook（IDE）来做课堂和课后练习\n",
    "\n",
    "## 2. 模块（工具箱-不需要知道怎么做的，只需要会用就可以了）\n",
    "\n",
    "> 1. 标准库（python团队自己开发出来的，想着有人如果用我的编程语言的话，常用的一些功能我已经准备好了）\n",
    ">> 1. 使用标准库的方法： import 模块名称\n",
    ">> 2. [标准库的库](https://docs.python.org/3/library/index.html)\n",
    "> 2. 开源模块(anaconda为例)\n",
    ">> 1. [开源模块](https://pypi.org/)\n",
    "> 3. 自定义模块\n",
    "\n"
   ]
  },
  {
   "cell_type": "code",
   "execution_count": 1,
   "id": "a2635f06",
   "metadata": {
    "scrolled": true
   },
   "outputs": [
    {
     "name": "stdout",
     "output_type": "stream",
     "text": [
      "hello world~\n"
     ]
    }
   ],
   "source": [
    "print(\"hello world~\")"
   ]
  },
  {
   "cell_type": "code",
   "execution_count": 2,
   "id": "23c09b0c",
   "metadata": {},
   "outputs": [],
   "source": [
    "import time"
   ]
  },
  {
   "cell_type": "code",
   "execution_count": 4,
   "id": "75c11e89",
   "metadata": {},
   "outputs": [
    {
     "data": {
      "text/plain": [
       "time.struct_time(tm_year=2022, tm_mon=8, tm_mday=31, tm_hour=20, tm_min=30, tm_sec=34, tm_wday=2, tm_yday=243, tm_isdst=0)"
      ]
     },
     "execution_count": 4,
     "metadata": {},
     "output_type": "execute_result"
    }
   ],
   "source": [
    "time.localtime()"
   ]
  },
  {
   "cell_type": "code",
   "execution_count": 5,
   "id": "d0d58bc6",
   "metadata": {},
   "outputs": [
    {
     "ename": "ModuleNotFoundError",
     "evalue": "No module named 'apple'",
     "output_type": "error",
     "traceback": [
      "\u001b[1;31m---------------------------------------------------------------------------\u001b[0m",
      "\u001b[1;31mModuleNotFoundError\u001b[0m                       Traceback (most recent call last)",
      "\u001b[1;32m<ipython-input-5-fa02c44d74d3>\u001b[0m in \u001b[0;36m<module>\u001b[1;34m\u001b[0m\n\u001b[1;32m----> 1\u001b[1;33m \u001b[1;32mimport\u001b[0m \u001b[0mapple\u001b[0m\u001b[1;33m\u001b[0m\u001b[1;33m\u001b[0m\u001b[0m\n\u001b[0m",
      "\u001b[1;31mModuleNotFoundError\u001b[0m: No module named 'apple'"
     ]
    }
   ],
   "source": [
    "import apple"
   ]
  },
  {
   "cell_type": "code",
   "execution_count": null,
   "id": "7739dd25",
   "metadata": {},
   "outputs": [],
   "source": [
    "## 课本 P4 第一个项目 可以试一下"
   ]
  },
  {
   "cell_type": "code",
   "execution_count": null,
   "id": "85e56e1d",
   "metadata": {},
   "outputs": [],
   "source": [
    "## 第一章共三个项目（知识点课堂讲）\n",
    "## 项目课后写"
   ]
  }
 ],
 "metadata": {
  "kernelspec": {
   "display_name": "Python 3 (ipykernel)",
   "language": "python",
   "name": "python3"
  },
  "language_info": {
   "codemirror_mode": {
    "name": "ipython",
    "version": 3
   },
   "file_extension": ".py",
   "mimetype": "text/x-python",
   "name": "python",
   "nbconvert_exporter": "python",
   "pygments_lexer": "ipython3",
   "version": "3.9.12"
  }
 },
 "nbformat": 4,
 "nbformat_minor": 5
}
