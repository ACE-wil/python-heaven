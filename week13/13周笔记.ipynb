{
 "cells": [
  {
   "cell_type": "markdown",
   "source": [
    "> 期中考试复盘：\n",
    ">>取邮政编码连续的五位数字\n"
   ],
   "metadata": {
    "collapsed": false,
    "pycharm": {
     "name": "#%% md\n"
    }
   }
  },
  {
   "cell_type": "code",
   "execution_count": 4,
   "outputs": [
    {
     "name": "stdout",
     "output_type": "stream",
     "text": [
      "Defaulting to user installation because normal site-packages is not writeable\n",
      "Collecting pyecharts\n",
      "  Downloading pyecharts-1.9.1-py3-none-any.whl (135 kB)\n",
      "Collecting prettytable\n",
      "  Downloading prettytable-3.5.0-py3-none-any.whl (26 kB)\n",
      "Collecting simplejson\n",
      "  Downloading simplejson-3.18.0-cp39-cp39-win_amd64.whl (76 kB)\n",
      "Requirement already satisfied: jinja2 in e:\\anaconda\\lib\\site-packages (from pyecharts) (2.11.3)\n",
      "Requirement already satisfied: MarkupSafe>=0.23 in e:\\anaconda\\lib\\site-packages (from jinja2->pyecharts) (2.0.1)\n",
      "Requirement already satisfied: wcwidth in e:\\anaconda\\lib\\site-packages (from prettytable->pyecharts) (0.2.5)\n",
      "Installing collected packages: simplejson, prettytable, pyecharts\n",
      "Successfully installed prettytable-3.5.0 pyecharts-1.9.1 simplejson-3.18.0\n"
     ]
    }
   ],
   "source": [
    "!pip install pyecharts"
   ],
   "metadata": {
    "collapsed": false,
    "pycharm": {
     "name": "#%%\n"
    }
   }
  },
  {
   "cell_type": "code",
   "execution_count": null,
   "outputs": [],
   "source": [
    "text = [1,2,3,4,g]\n",
    "for x in text:\n",
    "    if x."
   ],
   "metadata": {
    "collapsed": false,
    "pycharm": {
     "name": "#%%\n"
    }
   }
  }
 ],
 "metadata": {
  "kernelspec": {
   "display_name": "Python 3",
   "language": "python",
   "name": "python3"
  },
  "language_info": {
   "codemirror_mode": {
    "name": "ipython",
    "version": 2
   },
   "file_extension": ".py",
   "mimetype": "text/x-python",
   "name": "python",
   "nbconvert_exporter": "python",
   "pygments_lexer": "ipython2",
   "version": "2.7.6"
  }
 },
 "nbformat": 4,
 "nbformat_minor": 0
}